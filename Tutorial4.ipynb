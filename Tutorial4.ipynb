{
 "cells": [
  {
   "cell_type": "code",
   "execution_count": 34,
   "metadata": {},
   "outputs": [
    {
     "name": "stdout",
     "output_type": "stream",
     "text": [
      ">influenza_resistance_region\n",
      "\n",
      "Length of sequence L:  90001\n"
     ]
    }
   ],
   "source": [
    "# Tutorial 4 BME 808\n",
    "\n",
    "# read in file\n",
    "#file = open('aprt.txt', 'r')\n",
    "file = open('influenzaresist.txt', 'r')\n",
    "\n",
    "print(file.readline())\n",
    "seq = file.read()\n",
    "seq = seq.replace('\\n', '')\n",
    "\n",
    "print('Length of sequence L: ', len(seq))"
   ]
  },
  {
   "cell_type": "code",
   "execution_count": 1,
   "metadata": {},
   "outputs": [],
   "source": [
    "def cpg(seq) :\n",
    "    G = seq.count('G')\n",
    "    C = seq.count('C')\n",
    "    CG = seq.count('CG')\n",
    "    N = len(seq)\n",
    "    \n",
    "    return CG*N/(C*G)\n",
    "\n",
    "def bar(y) :\n",
    "    width = 20\n",
    "    a = [' ']*width\n",
    "    a[6] = '|'\n",
    "    pos = int(10*y +0.5)\n",
    "    a[pos] = 'X'\n",
    "    return ''.join(a)"
   ]
  },
  {
   "cell_type": "code",
   "execution_count": 3,
   "metadata": {},
   "outputs": [
    {
     "data": {
      "text/plain": [
       "3.3333333333333335"
      ]
     },
     "execution_count": 3,
     "metadata": {},
     "output_type": "execute_result"
    }
   ],
   "source": [
    "cpg('ACGTTTCGAC')"
   ]
  },
  {
   "cell_type": "code",
   "execution_count": 33,
   "metadata": {},
   "outputs": [
    {
     "name": "stdout",
     "output_type": "stream",
     "text": [
      "CPG Ratio    Bar           Index\n",
      "--------------------------------\n",
      "0.612       X              0\n",
      "0.561       X              100\n",
      "0.346    X  |              200\n",
      "0.252    X  |              300\n",
      "0.263    X  |              400\n",
      "0.261    X  |              500\n",
      "0.267    X  |              600\n",
      "0.223   X   |              700\n",
      "0.271    X  |              800\n",
      "0.192   X   |              900\n",
      "0.155   X   |              1000\n",
      "0.305    X  |              1100\n",
      "0.358     X |              1200\n",
      "0.298    X  |              1300\n",
      "0.337    X  |              1400\n",
      "0.252    X  |              1500\n",
      "0.211   X   |              1600\n",
      "0.226   X   |              1700\n",
      "0.325    X  |              1800\n",
      "0.252    X  |              1900\n",
      "0.455      X|              2000\n",
      "0.473      X|              2100\n",
      "0.296    X  |              2200\n",
      "0.165   X   |              2300\n",
      "0.226   X   |              2400\n",
      "0.371     X |              2500\n",
      "0.543      X|              2600\n",
      "0.349    X  |              2700\n",
      "0.270    X  |              2800\n",
      "0.537      X|              2900\n",
      "0.577       X              3000\n",
      "0.463      X|              3100\n",
      "0.464      X|              3200\n",
      "0.362     X |              3300\n",
      "0.323    X  |              3400\n",
      "0.339    X  |              3500\n",
      "0.428     X |              3600\n",
      "0.484      X|              3700\n",
      "0.636       X              3800\n",
      "0.870       |  X           3900\n",
      "0.583       X              4000\n",
      "0.420     X |              4100\n",
      "0.268    X  |              4200\n",
      "0.570       X              4300\n",
      "0.725       |X             4400\n",
      "0.879       |  X           4500\n",
      "0.898       |  X           4600\n",
      "0.938       |  X           4700\n",
      "1.123       |    X         4800\n",
      "0.921       |  X           4900\n",
      "0.938       |  X           5000\n",
      "0.867       |  X           5100\n",
      "0.863       |  X           5200\n",
      "0.889       |  X           5300\n",
      "0.890       |  X           5400\n",
      "0.649       X              5500\n",
      "0.391     X |              5600\n",
      "0.337    X  |              5700\n",
      "0.196   X   |              5800\n",
      "0.163   X   |              5900\n",
      "0.067  X    |              6000\n",
      "0.069  X    |              6100\n",
      "0.227   X   |              6200\n",
      "0.290    X  |              6300\n",
      "0.276    X  |              6400\n",
      "0.173   X   |              6500\n",
      "0.062  X    |              6600\n",
      "0.271    X  |              6700\n",
      "0.314    X  |              6800\n",
      "0.094  X    |              6900\n",
      "0.177   X   |              7000\n",
      "0.215   X   |              7100\n",
      "0.112  X    |              7200\n",
      "0.284    X  |              7300\n",
      "0.250    X  |              7400\n",
      "0.123  X    |              7500\n",
      "0.068  X    |              7600\n",
      "0.238   X   |              7700\n",
      "0.548      X|              7800\n",
      "0.499      X|              7900\n",
      "0.336    X  |              8000\n",
      "0.280    X  |              8100\n",
      "0.063  X    |              8200\n",
      "0.214   X   |              8300\n",
      "0.278    X  |              8400\n",
      "0.302    X  |              8500\n",
      "0.568       X              8600\n",
      "0.472      X|              8700\n",
      "0.098  X    |              8800\n",
      "0.197   X   |              8900\n",
      "0.191   X   |              9000\n",
      "0.143  X    |              9100\n",
      "0.201   X   |              9200\n",
      "--------------------------------\n"
     ]
    }
   ],
   "source": [
    "# Define Window Size\n",
    "W = 200\n",
    "\n",
    "# Loop through and find CPG islands\n",
    "print('CPG Ratio    Bar           Index')\n",
    "print('--------------------------------')\n",
    "for i in range(0,len(seq)-W, 100) :\n",
    "    window = seq[i:i+W]\n",
    "    cpgRatio = cpg(window)\n",
    "    print('%.3f' % cpgRatio, bar(cpgRatio), i)\n",
    "print('--------------------------------')\n"
   ]
  },
  {
   "cell_type": "code",
   "execution_count": 10,
   "metadata": {},
   "outputs": [],
   "source": [
    "import numpy as np\n"
   ]
  },
  {
   "cell_type": "code",
   "execution_count": 14,
   "metadata": {},
   "outputs": [],
   "source": [
    "def average(input) :\n",
    "    output = 0\n",
    "    for i in range(len(input)) :\n",
    "        output = output + input[i]\n",
    "    \n",
    "    return output/len(input)\n"
   ]
  },
  {
   "cell_type": "code",
   "execution_count": 15,
   "metadata": {},
   "outputs": [],
   "source": [
    "x = np.array([1, 2, 3, 4])"
   ]
  },
  {
   "cell_type": "code",
   "execution_count": 16,
   "metadata": {},
   "outputs": [
    {
     "data": {
      "text/plain": [
       "2.5"
      ]
     },
     "execution_count": 16,
     "metadata": {},
     "output_type": "execute_result"
    }
   ],
   "source": [
    "average(x)"
   ]
  },
  {
   "cell_type": "code",
   "execution_count": null,
   "metadata": {},
   "outputs": [],
   "source": []
  }
 ],
 "metadata": {
  "kernelspec": {
   "display_name": "Python 3",
   "language": "python",
   "name": "python3"
  },
  "language_info": {
   "codemirror_mode": {
    "name": "ipython",
    "version": 3
   },
   "file_extension": ".py",
   "mimetype": "text/x-python",
   "name": "python",
   "nbconvert_exporter": "python",
   "pygments_lexer": "ipython3",
   "version": "3.7.6"
  }
 },
 "nbformat": 4,
 "nbformat_minor": 4
}
