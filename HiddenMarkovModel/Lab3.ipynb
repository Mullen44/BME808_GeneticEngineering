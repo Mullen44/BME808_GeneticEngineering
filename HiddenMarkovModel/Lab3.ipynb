{
 "cells": [
  {
   "cell_type": "code",
   "execution_count": 1,
   "metadata": {},
   "outputs": [],
   "source": [
    "# Lab 3 Hidden Markov Model\n",
    "# Andrew Mullen\n",
    "\n",
    "# Import modules\n",
    "import numpy as np\n",
    "import pandas as pd"
   ]
  },
  {
   "cell_type": "markdown",
   "metadata": {},
   "source": [
    "# Brute Force method for HMM"
   ]
  },
  {
   "cell_type": "code",
   "execution_count": 115,
   "metadata": {},
   "outputs": [
    {
     "name": "stdout",
     "output_type": "stream",
     "text": [
      "[[0.99, 0.01], [0.2, 0.8]]\n"
     ]
    }
   ],
   "source": [
    "n = 2\n",
    "trans = ['']*n\n",
    "trans[0] = [0.99, 0.01]\n",
    "trans[1] = [0.2, 0.8]\n",
    "\n",
    "print(trans)"
   ]
  },
  {
   "cell_type": "code",
   "execution_count": 116,
   "metadata": {},
   "outputs": [
    {
     "name": "stdout",
     "output_type": "stream",
     "text": [
      "[0.5, 0.5]\n"
     ]
    }
   ],
   "source": [
    "initial = [0.5, 0.5]\n",
    "print(initial)"
   ]
  },
  {
   "cell_type": "code",
   "execution_count": 117,
   "metadata": {},
   "outputs": [
    {
     "name": "stdout",
     "output_type": "stream",
     "text": [
      "[[0.16666666666666666, 0.16666666666666666, 0.16666666666666666, 0.16666666666666666, 0.16666666666666666, 0.16666666666666666], [0.1, 0.1, 0.1, 0.1, 0.1, 0.5]]\n"
     ]
    }
   ],
   "source": [
    "emit = ['']*n\n",
    "emit[0] = [1.0/6, 1.0/6, 1.0/6, 1.0/6, 1.0/6, 1.0/6]\n",
    "emit[1] = [1/10.0, 1/10.0, 1/10.0, 1/10.0, 1/10.0, 1/2.0]\n",
    "print(emit)"
   ]
  },
  {
   "cell_type": "code",
   "execution_count": 118,
   "metadata": {},
   "outputs": [
    {
     "name": "stdout",
     "output_type": "stream",
     "text": [
      "[2, 5, 3]\n"
     ]
    }
   ],
   "source": [
    "Eseq = [2,5,3]\n",
    "print(Eseq)"
   ]
  },
  {
   "cell_type": "code",
   "execution_count": 119,
   "metadata": {},
   "outputs": [
    {
     "name": "stdout",
     "output_type": "stream",
     "text": [
      "0.0022687499999999995\n",
      "[0, 0, 0]\n"
     ]
    }
   ],
   "source": [
    "M = len(trans)\n",
    "N = len(Eseq)\n",
    "pmax = 0\n",
    "\n",
    "Sseq = []\n",
    "\n",
    "# Find Sseq to give highest probability \n",
    "for i0 in range(M) :\n",
    "    p0 = initial[i0] * emit[i0][Eseq[0]]\n",
    "    \n",
    "    for i1 in range(M) :\n",
    "        p1 = emit[i1][Eseq[1]] * trans[i0][i1]\n",
    "        \n",
    "        for i2 in range(M) :\n",
    "            p2 = emit[i2][Eseq[2]] * trans[i1][i2]\n",
    "            p = p0*p1*p2\n",
    "            \n",
    "            if p > pmax :\n",
    "                pmax = p\n",
    "                Sseq = [i0, i1, i2]\n",
    "\n",
    "                \n",
    "print(pmax)\n",
    "print(Sseq)"
   ]
  },
  {
   "cell_type": "code",
   "execution_count": 104,
   "metadata": {},
   "outputs": [
    {
     "name": "stdout",
     "output_type": "stream",
     "text": [
      "[2, 2, 2, 2, 2, 2, 2, 5, 5, 5, 5, 5]\n"
     ]
    }
   ],
   "source": [
    "# Part 2\n",
    "Eseq = [2,2,2,2,2,2,2,5,5,5,5,5]\n",
    "print(Eseq)"
   ]
  },
  {
   "cell_type": "code",
   "execution_count": 72,
   "metadata": {},
   "outputs": [
    {
     "name": "stdout",
     "output_type": "stream",
     "text": [
      "2.1524466149999991e-10\n",
      "[0, 0, 0, 0, 0, 0, 0, 1, 1, 1, 1, 1]\n"
     ]
    }
   ],
   "source": [
    "M = len(trans)\n",
    "N = len(Eseq)\n",
    "pmax = 0\n",
    "\n",
    "Sseq = []\n",
    "\n",
    "for i0 in range(M) :\n",
    "    p0 = initial[i0] * emit[i0][Eseq[0]]    \n",
    "    for i1 in range(M) :\n",
    "        p1 = emit[i1][Eseq[1]] * trans[i0][i1]        \n",
    "        for i2 in range(M) :\n",
    "            p2 = emit[i2][Eseq[2]] * trans[i1][i2]\n",
    "            for i3 in range(M) :\n",
    "                p3 = emit[i3][Eseq[3]] * trans[i2][i3]\n",
    "                for i4 in range(M) :\n",
    "                    p4 = emit[i4][Eseq[4]] * trans[i3][i4]\n",
    "                    for i5 in range(M) :\n",
    "                        p5 = emit[i5][Eseq[5]] * trans[i4][i5]\n",
    "                        for i6 in range(M) :\n",
    "                            p6 = emit[i6][Eseq[6]] * trans[i5][i6]\n",
    "                            for i7 in range(M) :\n",
    "                                p7 = emit[i7][Eseq[7]] * trans[i6][i7]\n",
    "                                for i8 in range(M) :\n",
    "                                    p8 = emit[i8][Eseq[8]] * trans[i7][i8]\n",
    "                                    for i9 in range(M) :\n",
    "                                        p9 = emit[i9][Eseq[9]] * trans[i8][i9]\n",
    "                                        for i10 in range(M) :\n",
    "                                            p10 = emit[i10][Eseq[10]] * trans[i9][i10]\n",
    "                                            for i11 in range(M) :\n",
    "                                                p11 = emit[i11][Eseq[11]] * trans[i10][i11]\n",
    "                                                p = p0*p1*p2*p3*p4*p5*p6*p7*p8*p9*p10*p11\n",
    "                                                if p > pmax :\n",
    "                                                    pmax = p\n",
    "                                                    Sseq = [i0,i1,i2,i3,i4,i5,i6,i7,i8,i9,i10,i11]\n",
    "                                                    \n",
    "print(pmax)\n",
    "print(Sseq)"
   ]
  },
  {
   "cell_type": "markdown",
   "metadata": {},
   "source": [
    "# Viterbi Method"
   ]
  },
  {
   "cell_type": "code",
   "execution_count": 19,
   "metadata": {},
   "outputs": [
    {
     "name": "stdout",
     "output_type": "stream",
     "text": [
      "[2, 1, 0]\n"
     ]
    }
   ],
   "source": [
    "n = 2\n",
    "trans = ['']*n\n",
    "#trans[0] = [0.99, 0.01]\n",
    "#trans[1] = [0.2, 0.8]\n",
    "\n",
    "trans[0] = [0.7, 0.3]\n",
    "trans[1] = [0.4, 0.6]\n",
    "\n",
    "#initial = [0.5, 0.5]\n",
    "initial = [0.6, 0.4]\n",
    "\n",
    "emit = ['']*n\n",
    "#emit[0] = [1.0/6, 1.0/6, 1.0/6, 1.0/6, 1.0/6, 1.0/6]\n",
    "#emit[1] = [1/10.0, 1/10.0, 1/10.0, 1/10.0, 1/10.0, 1/2.0]\n",
    "\n",
    "emit[0] = [0.1, 0.4, 0.5]\n",
    "emit[1] = [0.6, 0.1, 0.3]\n",
    "\n",
    "#Eseq = [2, 5, 3]\n",
    "#Eseq = [2,2,2,2,2,2,2,5,5,5,5,5]\n",
    "Eseq = [2, 1, 0]\n",
    "print(Eseq)"
   ]
  },
  {
   "cell_type": "code",
   "execution_count": 20,
   "metadata": {},
   "outputs": [
    {
     "name": "stdout",
     "output_type": "stream",
     "text": [
      "[[0, 0, 0], [0, 0, 0]]\n"
     ]
    }
   ],
   "source": [
    "M = len(trans)\n",
    "N = len(Eseq)\n",
    "pmax = 0\n",
    "Sseq = [-1]*N\n",
    "\n",
    "vit = [[0]*N for i in range(M)]\n",
    "print(vit)"
   ]
  },
  {
   "cell_type": "code",
   "execution_count": 21,
   "metadata": {},
   "outputs": [
    {
     "name": "stdout",
     "output_type": "stream",
     "text": [
      "[[0.3, 0, 0], [0.12, 0, 0]]\n"
     ]
    }
   ],
   "source": [
    "# First Column\n",
    "for i in range(M) :\n",
    "    vit[i][0] = initial[i] * emit[i][Eseq[0]]\n",
    "    \n",
    "print(vit)"
   ]
  },
  {
   "cell_type": "code",
   "execution_count": 22,
   "metadata": {},
   "outputs": [
    {
     "name": "stdout",
     "output_type": "stream",
     "text": [
      "[[0.3, 0.084, 0.00588], [0.12, 0.009, 0.01512]]\n"
     ]
    }
   ],
   "source": [
    "# Rest of Columns\n",
    "for j in range(1,N) : # 1-3 column\n",
    "    for i in range(M) : # 1-3 row\n",
    "        hold1 = vit[0][j-1]*trans[0][i] # Previous fair initial\n",
    "        hold2 = vit[1][j-1]*trans[1][i] # Previous loaded initial\n",
    "        vit[i][j] = emit[i][Eseq[j]] * max(hold1, hold2)\n",
    "        \n",
    "print(vit)"
   ]
  },
  {
   "cell_type": "code",
   "execution_count": 23,
   "metadata": {},
   "outputs": [],
   "source": [
    "def printmx(vit) :\n",
    "    print('----------------------------------')\n",
    "    for i in range(M) :\n",
    "        for j in range(N) :\n",
    "            print('%5f' %vit[i][j], end=' ')\n",
    "        print('\\n')\n",
    "    print('----------------------------------')"
   ]
  },
  {
   "cell_type": "code",
   "execution_count": 24,
   "metadata": {},
   "outputs": [
    {
     "name": "stdout",
     "output_type": "stream",
     "text": [
      "----------------------------------\n",
      "0.300000 0.084000 0.005880 \n",
      "\n",
      "0.120000 0.009000 0.015120 \n",
      "\n",
      "----------------------------------\n"
     ]
    }
   ],
   "source": [
    "printmx(vit)"
   ]
  },
  {
   "cell_type": "code",
   "execution_count": 25,
   "metadata": {},
   "outputs": [
    {
     "name": "stdout",
     "output_type": "stream",
     "text": [
      "1\n"
     ]
    }
   ],
   "source": [
    "# Find maximum in the kast column and its location\n",
    "lastcolF = vit[0][len(vit[0])-1]\n",
    "lastcolL = vit[1][len(vit[1])-1]\n",
    "\n",
    "if lastcolF > lastcolL :\n",
    "    pmax = lastcolF\n",
    "    imax = 0\n",
    "    \n",
    "else :\n",
    "    pmax = lastcolL\n",
    "    imax = 1\n",
    "    \n",
    "print(imax)"
   ]
  },
  {
   "cell_type": "code",
   "execution_count": 26,
   "metadata": {},
   "outputs": [
    {
     "name": "stdout",
     "output_type": "stream",
     "text": [
      "[1]\n"
     ]
    }
   ],
   "source": [
    "Sseq = []\n",
    "prob = pmax\n",
    "\n",
    "imaxseq = [imax]\n",
    "\n",
    "print(imaxseq)\n",
    "\n",
    "for j in range(N-2, -1, -1) :\n",
    "    target = prob/emit[imax][Eseq[j+1]]\n",
    "    candidate = []\n",
    "    for k in range(M) :\n",
    "        # Check the value of the reverse equation\n",
    "        candidate.append(vit[k][j]*trans[k][imax])\n",
    "        \n",
    "    for i in range(len(candidate)) :\n",
    "        if candidate[i] == target :\n",
    "            imax = i\n",
    "    \n",
    "    prob = vit[imax][j]\n",
    "    \n",
    "    imaxseq.append(imax)\n",
    "        \n",
    "imaxseq.reverse()"
   ]
  },
  {
   "cell_type": "code",
   "execution_count": 27,
   "metadata": {},
   "outputs": [
    {
     "name": "stdout",
     "output_type": "stream",
     "text": [
      "[0, 0, 1]\n",
      "0.01512\n"
     ]
    }
   ],
   "source": [
    "print(imaxseq)\n",
    "print(pmax)"
   ]
  },
  {
   "cell_type": "code",
   "execution_count": null,
   "metadata": {},
   "outputs": [],
   "source": []
  },
  {
   "cell_type": "code",
   "execution_count": null,
   "metadata": {},
   "outputs": [],
   "source": []
  }
 ],
 "metadata": {
  "kernelspec": {
   "display_name": "Python 3",
   "language": "python",
   "name": "python3"
  },
  "language_info": {
   "codemirror_mode": {
    "name": "ipython",
    "version": 3
   },
   "file_extension": ".py",
   "mimetype": "text/x-python",
   "name": "python",
   "nbconvert_exporter": "python",
   "pygments_lexer": "ipython3",
   "version": "3.7.6"
  }
 },
 "nbformat": 4,
 "nbformat_minor": 4
}
